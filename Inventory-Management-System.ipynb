{
 "cells": [
  {
   "cell_type": "markdown",
   "id": "5ee60d2f-b885-4413-85b2-900752a73030",
   "metadata": {},
   "source": [
    "# PROJECT:-INVENTORY MANGEMENT SYSTEM"
   ]
  },
  {
   "cell_type": "raw",
   "id": "d7c59eb8-33ef-409c-a3ce-ddc1255df974",
   "metadata": {},
   "source": [
    "Product Details:-\n",
    "1.Product ID\n",
    "2.Product Name\n",
    "3.Product Price\n",
    "4.Quantity"
   ]
  },
  {
   "cell_type": "markdown",
   "id": "023583cc-aa2b-42de-9615-3024cb742a68",
   "metadata": {},
   "source": [
    "# Making inventory file"
   ]
  },
  {
   "cell_type": "code",
   "execution_count": 45,
   "id": "1c85c945-dcbb-4909-8457-cb319e54c32c",
   "metadata": {},
   "outputs": [
    {
     "name": "stdout",
     "output_type": "stream",
     "text": [
      "File exists.\n"
     ]
    }
   ],
   "source": [
    "import os\n",
    "\n",
    "filename='Inventory-of-gadgets.txt'\n",
    "if os.path.exists(filename):\n",
    "    print(\"File exists.\")\n",
    "else:\n",
    "    with open(file_path, 'w') as f:\n",
    "        pass\n",
    "    print(\"File created.\")"
   ]
  },
  {
   "cell_type": "markdown",
   "id": "beff7a1a-6213-466e-9871-c145057b9119",
   "metadata": {},
   "source": [
    "# ADD PRODUCT DETAILS"
   ]
  },
  {
   "cell_type": "code",
   "execution_count": 46,
   "id": "c4358c41-19a8-4e39-a739-4c8060bf986a",
   "metadata": {},
   "outputs": [
    {
     "name": "stdout",
     "output_type": "stream",
     "text": [
      "Prdouct Added Successfully with Proudct ID: 3\n"
     ]
    }
   ],
   "source": [
    "filename='Inventory-of-gadgets.txt'\n",
    "product_id = input(\"Enter the Product ID:\")\n",
    "product_name = input(\"Enter the Product Name:\")\n",
    "product_price = input(\"Enter the Product Price:\")\n",
    "product_quantity = input(\"Enter the Product Quantity:\")\n",
    "\n",
    "def add_product(product_id,product_name,product_price,product_quantity):\n",
    "    file = open(filename, 'a')\n",
    "    # You need to write a single string, so convert all inputs to a formatted string\n",
    "    file.write(f\"{product_id},{product_name},{product_price},{product_quantity}\\n\")\n",
    "    file.close()  # Always close the file when done\n",
    "\n",
    "add_product(product_id,product_name,product_price,product_quantity)\n",
    "print(\"Prdouct Added Successfully with Proudct ID:\",product_id)"
   ]
  },
  {
   "cell_type": "markdown",
   "id": "5c07bda2",
   "metadata": {},
   "source": [
    "# READ THE INVENTORY FILE "
   ]
  },
  {
   "cell_type": "code",
   "execution_count": 48,
   "id": "7b1e8b30",
   "metadata": {},
   "outputs": [
    {
     "name": "stdout",
     "output_type": "stream",
     "text": [
      "Product ID     Product Name   Product Price  Product Quantity\n",
      "------------------------------------------------------------\n",
      "1              TAB A7              15000          10             \n",
      "2              A52                 35000          20             \n",
      "3              Mac Book Pro 13     16000          30             \n"
     ]
    }
   ],
   "source": [
    "def read_product():\n",
    "    with open(filename, 'r') as file:\n",
    "        data = file.read().split(\"\\n\")  # correct newline split\n",
    "\n",
    "    # Header\n",
    "    print(f\"{'Product ID':<15}{'Product Name':<15}{'Product Price':<15}{'Product Quantity':<15}\")\n",
    "    print(\"-\" * 60)\n",
    "\n",
    "    for line in data:\n",
    "        if line.strip():  # skip empty lines\n",
    "            parts = line.split(\",\")\n",
    "            if len(parts) == 4:\n",
    "                product_id = parts[0].strip()\n",
    "                product_name = parts[1].strip()\n",
    "                product_price = parts[2].strip()\n",
    "                product_quantity = parts[3].strip()\n",
    "                print(f\"{product_id:<15}{product_name:<20}{product_price:<15}{product_quantity:<15}\")\n",
    "\n",
    "read_product()"
   ]
  },
  {
   "cell_type": "markdown",
   "id": "2669308e",
   "metadata": {},
   "source": [
    "# SREACH THE PRODUCT"
   ]
  },
  {
   "cell_type": "code",
   "execution_count": 52,
   "id": "663ef265",
   "metadata": {},
   "outputs": [
    {
     "name": "stdout",
     "output_type": "stream",
     "text": [
      "Product ID     Product Name   Product Price  Product Quantity\n",
      "------------------------------------------------------------\n",
      "3              Mac Book Pro 13     160000         30             \n"
     ]
    }
   ],
   "source": [
    "productid=input(\"Enter product id:\")\n",
    "def search_product():\n",
    "    with open(filename, 'r') as file:\n",
    "        data = file.read().split(\"\\n\")  # correct newline split\n",
    "\n",
    "    # Header\n",
    "    print(f\"{'Product ID':<15}{'Product Name':<15}{'Product Price':<15}{'Product Quantity':<15}\")\n",
    "    print(\"-\" * 60)\n",
    "\n",
    "    for line in data:\n",
    "        if line.strip():  # skip empty lines\n",
    "            parts = line.split(\",\")\n",
    "            if len(parts) == 4 and int(parts[0]) == int(productid):\n",
    "                product_id = parts[0].strip()\n",
    "                product_name = parts[1].strip()\n",
    "                product_price = parts[2].strip()\n",
    "                product_quantity = parts[3].strip()\n",
    "                print(f\"{product_id:<15}{product_name:<20}{product_price:<15}{product_quantity:<15}\")\n",
    "\n",
    "search_product()"
   ]
  },
  {
   "cell_type": "markdown",
   "id": "7660349f",
   "metadata": {},
   "source": [
    "# BUY PRODUCT AND GENRATING BILL"
   ]
  },
  {
   "cell_type": "code",
   "execution_count": 53,
   "id": "3372e5dc",
   "metadata": {},
   "outputs": [
    {
     "name": "stdout",
     "output_type": "stream",
     "text": [
      "------------------------------------------------------------\n",
      "Produc Name     Mac Book Pro 13\n",
      "Product Price   160000\n",
      "Product Quantity 2\n",
      "------------------------------------------------------------\n",
      "BILLING         320000\n"
     ]
    }
   ],
   "source": [
    "productname=input(\"Enter product name:\")\n",
    "qn=input(\"Enter the quantity:\")\n",
    "\n",
    "def buy():\n",
    "    with open(filename, 'r') as file:\n",
    "        data = file.read().split(\"\\n\")  # correct newline split\n",
    "\n",
    "    # Header\n",
    "    print(\"-\" * 60)\n",
    "    for line in data:\n",
    "        if line.strip():  # skip empty lines\n",
    "            parts = line.split(\",\")\n",
    "            if len(parts) == 4 and parts[1]==productname:\n",
    "                product_id = parts[0].strip()\n",
    "                product_name = parts[1].strip()\n",
    "                product_price = parts[2].strip()\n",
    "                product_quantity = parts[3].strip()\n",
    "                print(f\"{'Produc Name':<15}\" , product_name)\n",
    "                print(f\"{'Product Price':<15}\" , product_price)\n",
    "                print(f\"{'Product Quantity':<15}\" ,qn)\n",
    "                print(\"-\" * 60)\n",
    "                print(f\"{'BILLING':<15}\",int(qn)*int(product_price))\n",
    "\n",
    "buy()"
   ]
  },
  {
   "cell_type": "code",
   "execution_count": null,
   "id": "1d3a3e37",
   "metadata": {},
   "outputs": [],
   "source": []
  }
 ],
 "metadata": {
  "kernelspec": {
   "display_name": "base",
   "language": "python",
   "name": "python3"
  },
  "language_info": {
   "codemirror_mode": {
    "name": "ipython",
    "version": 3
   },
   "file_extension": ".py",
   "mimetype": "text/x-python",
   "name": "python",
   "nbconvert_exporter": "python",
   "pygments_lexer": "ipython3",
   "version": "3.13.5"
  }
 },
 "nbformat": 4,
 "nbformat_minor": 5
}
