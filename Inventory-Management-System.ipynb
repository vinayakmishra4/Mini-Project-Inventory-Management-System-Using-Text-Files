{
 "cells": [
  {
   "cell_type": "code",
   "execution_count": null,
   "id": "e14e2fec-e1c9-4e6c-8cea-44f4867bbf8b",
   "metadata": {},
   "outputs": [],
   "source": []
  }
 ],
 "metadata": {
  "kernelspec": {
   "display_name": "",
   "name": ""
  },
  "language_info": {
   "name": ""
  }
 },
 "nbformat": 4,
 "nbformat_minor": 5
}
