{
 "cells": [
  {
   "cell_type": "markdown",
   "id": "5ee60d2f-b885-4413-85b2-900752a73030",
   "metadata": {},
   "source": [
    "# PROJECT INVENTORY MANGEMENT SYSTEM"
   ]
  },
  {
   "cell_type": "raw",
   "id": "d7c59eb8-33ef-409c-a3ce-ddc1255df974",
   "metadata": {},
   "source": [
    "Product Details:-\n",
    "1.Product ID\n",
    "2.Product Name\n",
    "3.Product Price\n",
    "4.Quantity"
   ]
  },
  {
   "cell_type": "markdown",
   "id": "023583cc-aa2b-42de-9615-3024cb742a68",
   "metadata": {},
   "source": [
    "# Making inventory file"
   ]
  },
  {
   "cell_type": "code",
   "execution_count": null,
   "id": "1c85c945-dcbb-4909-8457-cb319e54c32c",
   "metadata": {},
   "outputs": [],
   "source": [
    "import os\n",
    "\n",
    "filename='Inventory-of-gadgets.txt'\n",
    "if os.path.exists(filename):\n",
    "    print(\"File exists.\")\n",
    "else:\n",
    "    with open(file_path, 'w') as f:\n",
    "    f.write(\"\")\n",
    "    print(\"File created.\")"
   ]
  },
  {
   "cell_type": "markdown",
   "id": "beff7a1a-6213-466e-9871-c145057b9119",
   "metadata": {},
   "source": [
    "# ADD PRODUCT DETAILS"
   ]
  },
  {
   "cell_type": "code",
   "execution_count": null,
   "id": "c4358c41-19a8-4e39-a739-4c8060bf986a",
   "metadata": {},
   "outputs": [],
   "source": [
    "file=open('')"
   ]
  }
 ],
 "metadata": {
  "kernelspec": {
   "display_name": "Python [conda env:base] *",
   "language": "python",
   "name": "conda-base-py"
  },
  "language_info": {
   "codemirror_mode": {
    "name": "ipython",
    "version": 3
   },
   "file_extension": ".py",
   "mimetype": "text/x-python",
   "name": "python",
   "nbconvert_exporter": "python",
   "pygments_lexer": "ipython3",
   "version": "3.13.5"
  }
 },
 "nbformat": 4,
 "nbformat_minor": 5
}
