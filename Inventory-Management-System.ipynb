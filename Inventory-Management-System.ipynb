{
 "cells": [
  {
   "cell_type": "markdown",
   "id": "5ee60d2f-b885-4413-85b2-900752a73030",
   "metadata": {},
   "source": [
    "# PROJECT:-INVENTORY MANGEMENT SYSTEM"
   ]
  },
  {
   "cell_type": "raw",
   "id": "d7c59eb8-33ef-409c-a3ce-ddc1255df974",
   "metadata": {
    "vscode": {
     "languageId": "raw"
    }
   },
   "source": [
    "Product Details:-\n",
    "1.Product ID\n",
    "2.Product Name\n",
    "3.Product Price\n",
    "4.Quantity"
   ]
  },
  {
   "cell_type": "markdown",
   "id": "023583cc-aa2b-42de-9615-3024cb742a68",
   "metadata": {},
   "source": [
    "# Making inventory file"
   ]
  },
  {
   "cell_type": "code",
   "execution_count": 142,
   "id": "1c85c945-dcbb-4909-8457-cb319e54c32c",
   "metadata": {},
   "outputs": [
    {
     "name": "stdout",
     "output_type": "stream",
     "text": [
      "File exists.\n"
     ]
    }
   ],
   "source": [
    "import os\n",
    "import datetime\n",
    "\n",
    "filename='Inventory-of-gadgets.txt'\n",
    "if os.path.exists(filename):\n",
    "    print(\"File exists.\")\n",
    "else:\n",
    "    with open(file_path, 'w') as f:\n",
    "        pass\n",
    "    print(\"File created.\")"
   ]
  },
  {
   "cell_type": "markdown",
   "id": "beff7a1a-6213-466e-9871-c145057b9119",
   "metadata": {},
   "source": [
    "# ADD PRODUCT DETAILS"
   ]
  },
  {
   "cell_type": "code",
   "execution_count": 143,
   "id": "c4358c41-19a8-4e39-a739-4c8060bf986a",
   "metadata": {},
   "outputs": [
    {
     "name": "stdout",
     "output_type": "stream",
     "text": [
      "Prdouct Added Successfully with Proudct ID: 9\n"
     ]
    }
   ],
   "source": [
    "filename='Inventory-of-gadgets.txt'\n",
    "product_id = input(\"Enter the Product ID:\")\n",
    "product_name = input(\"Enter the Product Name:\")\n",
    "product_price = input(\"Enter the Product Price:\")\n",
    "product_quantity = input(\"Enter the Product Quantity:\")\n",
    "\n",
    "def add_product(product_id,product_name,product_price,product_quantity):\n",
    "    file = open(filename, 'a')\n",
    "    # You need to write a single string, so convert all inputs to a formatted string\n",
    "    file.write(f\"{product_id},{product_name},{product_price},{product_quantity}\\n\")\n",
    "    file.close()  # Always close the file when done\n",
    "\n",
    "add_product(product_id,product_name,product_price,product_quantity)\n",
    "print(\"Prdouct Added Successfully with Proudct ID:\",product_id)"
   ]
  },
  {
   "cell_type": "markdown",
   "id": "5c07bda2",
   "metadata": {},
   "source": [
    "# READ THE INVENTORY FILE "
   ]
  },
  {
   "cell_type": "code",
   "execution_count": 144,
   "id": "7b1e8b30",
   "metadata": {},
   "outputs": [
    {
     "name": "stdout",
     "output_type": "stream",
     "text": [
      "Product ID     Product Name   Product Price  Product Quantity\n",
      "------------------------------------------------------------\n",
      "1              REDMI K20 PRO       20000          10             \n",
      "2              A52                 35000          20             \n",
      "3              IPHONE 13 PRO MAX   80000          30             \n",
      "4              IPHONE 12 PRO MAX   70000          40             \n",
      "5              M35                 18000          50             \n",
      "7              A36                 30000          60             \n",
      "8              REALME NARZ0 20     15000          100            \n",
      "9              MI 18 PRO           10000          110            \n"
     ]
    }
   ],
   "source": [
    "def read_product():\n",
    "    with open(filename, 'r') as file:\n",
    "        data = file.read().split(\"\\n\")  # correct newline split\n",
    "\n",
    "    # Header\n",
    "    print(f\"{'Product ID':<15}{'Product Name':<15}{'Product Price':<15}{'Product Quantity':<15}\")\n",
    "    print(\"-\" * 60)\n",
    "\n",
    "    for line in data:\n",
    "        if line.strip():  # skip empty lines\n",
    "            parts = line.split(\",\")\n",
    "            if len(parts) == 4:\n",
    "                product_id = parts[0].strip()\n",
    "                product_name = parts[1].strip()\n",
    "                product_price = parts[2].strip()\n",
    "                product_quantity = parts[3].strip()\n",
    "                print(f\"{product_id:<15}{product_name:<20}{product_price:<15}{product_quantity:<15}\")\n",
    "\n",
    "read_product()"
   ]
  },
  {
   "cell_type": "markdown",
   "id": "2669308e",
   "metadata": {},
   "source": [
    "# SREACH THE PRODUCT"
   ]
  },
  {
   "cell_type": "code",
   "execution_count": 145,
   "id": "663ef265",
   "metadata": {},
   "outputs": [
    {
     "name": "stdout",
     "output_type": "stream",
     "text": [
      "Product ID     Product Name   Product Price  Product Quantity\n",
      "------------------------------------------------------------\n",
      "9              MI 18 PRO           10000          110            \n"
     ]
    }
   ],
   "source": [
    "productid=input(\"Enter product id:\")\n",
    "def search_product():\n",
    "    with open(filename, 'r') as file:\n",
    "        data = file.read().split(\"\\n\")  # correct newline split\n",
    "\n",
    "    # Header\n",
    "    print(f\"{'Product ID':<15}{'Product Name':<15}{'Product Price':<15}{'Product Quantity':<15}\")\n",
    "    print(\"-\" * 60)\n",
    "\n",
    "    for line in data:\n",
    "        if line.strip():  # skip empty lines\n",
    "            parts = line.split(\",\")\n",
    "            if len(parts) == 4 and int(parts[0]) == int(productid):\n",
    "                product_id = parts[0].strip()\n",
    "                product_name = parts[1].strip()\n",
    "                product_price = parts[2].strip()\n",
    "                product_quantity = parts[3].strip()\n",
    "                print(f\"{product_id:<15}{product_name:<20}{product_price:<15}{product_quantity:<15}\")\n",
    "\n",
    "search_product()"
   ]
  },
  {
   "cell_type": "markdown",
   "id": "7660349f",
   "metadata": {},
   "source": [
    "# BUY PRODUCT AND GENRATING BILL"
   ]
  },
  {
   "cell_type": "code",
   "execution_count": 146,
   "id": "3372e5dc",
   "metadata": {},
   "outputs": [
    {
     "name": "stdout",
     "output_type": "stream",
     "text": [
      "------------------------------------------------------------\n",
      "Product Name    REDMI K20 PRO\n",
      "Product Price   20000\n",
      "Product Quantity 10\n",
      "------------------------------------------------------------\n",
      "BILLING         200000\n"
     ]
    }
   ],
   "source": [
    "productname=input(\"Enter product name:\")\n",
    "qn=input(\"Enter the quantity:\")\n",
    "\n",
    "def buy():\n",
    "    found = False\n",
    "    with open(filename, 'r') as file:\n",
    "        data = file.read().split(\"\\n\")\n",
    "\n",
    "    print(\"-\" * 60)\n",
    "    for line in data:\n",
    "        if line.strip():\n",
    "            parts = line.split(\",\")\n",
    "            if len(parts) == 4 and parts[1].strip() == productname:\n",
    "                found = True\n",
    "                product_id = parts[0].strip()\n",
    "                product_name = parts[1].strip()\n",
    "                product_price = parts[2].strip()\n",
    "                product_quantity = int(parts[3].strip())\n",
    "                \n",
    "                if product_quantity >= int(qn):\n",
    "                    print(f\"{'Product Name':<15}\", product_name)\n",
    "                    print(f\"{'Product Price':<15}\", product_price)\n",
    "                    print(f\"{'Product Quantity':<15}\", qn)\n",
    "                    print(\"-\" * 60)\n",
    "                    print(f\"{'BILLING':<15}\", int(qn)*int(product_price))\n",
    "                else:\n",
    "                    print(\"Apologies, but we currently do not have enough quantity to fulfill your request.\")\n",
    "                    print(\"We have\", product_quantity, \"in stock.\")\n",
    "                    ans = input(\"Would you like to buy all of our available quantity? yes/no: \")\n",
    "                    if ans.lower() == 'yes':\n",
    "                        print(\"You are buying all of our available quantity.\")\n",
    "                        print(\"Your total is\", product_quantity * int(product_price))\n",
    "                    else:\n",
    "                        print(\"Thank you for shopping!\")\n",
    "                break  # Stop searching after you find the product\n",
    "\n",
    "    if not found:\n",
    "        print(\"Sorry, product not found.\")\n",
    "    \n",
    "buy()"
   ]
  },
  {
   "cell_type": "markdown",
   "id": "668e159e",
   "metadata": {},
   "source": [
    "# UPDATE INVENTORY"
   ]
  },
  {
   "cell_type": "code",
   "execution_count": 147,
   "id": "ccd2afed",
   "metadata": {},
   "outputs": [
    {
     "name": "stdout",
     "output_type": "stream",
     "text": [
      "Inventory After Selling the Respected Product :- REDMI K20 PRO\n",
      "Product Quantity Updated Successfully\n"
     ]
    }
   ],
   "source": [
    "\n",
    "print(\"Inventory After Selling the Respected Product :-\",productname)\n",
    "def Update(data, productname, qn, filename):\n",
    "    with open(filename, 'r') as file:\n",
    "        data = file.read().split(\"\\n\")  # correct newline split\n",
    "    updated_data = []\n",
    "    for line in data:\n",
    "        if line.strip():\n",
    "            parts = line.strip().split(\",\")\n",
    "            if len(parts) == 4 and parts[1] == productname:\n",
    "                # Update the quantity properly\n",
    "                new_quantity = int(parts[3]) - int(qn)\n",
    "                if new_quantity < 0:\n",
    "                    print(f\"Warning: Quantity for {productname} cannot be negative. Setting to 0.\")\n",
    "                    new_quantity = 0\n",
    "                parts[3] = str(new_quantity)\n",
    "                print(\"Product Quantity Updated Successfully\")\n",
    "            updated_data.append(\",\".join(parts))\n",
    "    \n",
    "    # Write back the updated data to the file (overwrite)\n",
    "    with open(filename, 'w') as file:  # Changed from 'a' to 'w'\n",
    "        for line in updated_data:\n",
    "            file.write(line + \"\\n\")\n",
    "\n",
    "Update(data, productname, qn, filename)"
   ]
  },
  {
   "cell_type": "markdown",
   "id": "e9bdeeb3",
   "metadata": {},
   "source": [
    "# REFILL STOCK"
   ]
  },
  {
   "cell_type": "code",
   "execution_count": 148,
   "id": "017fe09a",
   "metadata": {},
   "outputs": [
    {
     "name": "stdout",
     "output_type": "stream",
     "text": [
      "Refilled REDMI K20 PRO stock from 0 to 100.\n"
     ]
    }
   ],
   "source": [
    "def refill_stock():\n",
    "    productname = input(\"Enter product name to refill: \")\n",
    "    refill_qty = int(input(\"Enter quantity to add: \"))\n",
    "\n",
    "    updated_lines = []\n",
    "    found = False\n",
    "\n",
    "    with open(filename, 'r') as file:\n",
    "        lines = file.readlines()\n",
    "\n",
    "    for line in lines:\n",
    "        if line.strip():\n",
    "            parts = line.strip().split(\",\")\n",
    "            if len(parts) == 4 and parts[1].strip() == productname:\n",
    "                found = True\n",
    "                current_qty = int(parts[3].strip())\n",
    "                new_qty = current_qty + refill_qty\n",
    "                parts[3] = str(new_qty)\n",
    "                updated_line = \",\".join(parts) + \"\\n\"\n",
    "                updated_lines.append(updated_line)\n",
    "                print(f\"Refilled {productname} stock from {current_qty} to {new_qty}.\")\n",
    "            else:\n",
    "                updated_lines.append(line)\n",
    "        else:\n",
    "            updated_lines.append(line)\n",
    "\n",
    "    if not found:\n",
    "        print(\"Product not found. Cannot refill stock.\")\n",
    "        return\n",
    "\n",
    "    with open(filename, 'w') as file:\n",
    "        file.writelines(updated_lines)\n",
    "\n",
    "refill_stock()\n",
    "    "
   ]
  },
  {
   "cell_type": "markdown",
   "id": "2c926cb0",
   "metadata": {},
   "source": [
    "# WHOLE SALES"
   ]
  },
  {
   "cell_type": "raw",
   "id": "b525e56b",
   "metadata": {},
   "source": [
    "Presonal Details:-\n",
    "1.Name\n",
    "2.Phone\n",
    "3.Email"
   ]
  },
  {
   "cell_type": "code",
   "execution_count": null,
   "id": "471eeabf",
   "metadata": {},
   "outputs": [
    {
     "name": "stdout",
     "output_type": "stream",
     "text": [
      "------------------------------------------------------------\n",
      "Name  Vinayak\n",
      "PHONE  9310413639\n",
      "EMAIL  vmaugust24@gmail.com\n",
      "Product Name    REDMI K20 PRO\n",
      "Product Price   20000\n",
      "Product Quantity 1\n",
      "------------------------------------------------------------\n",
      "BILLING         20000\n",
      "Purchase successful. Stock updated.\n",
      "Sale logged successfully.\n"
     ]
    }
   ],
   "source": [
    "import datetime\n",
    "# Replace with your actual product file path\n",
    "filename='Inventory-of-gadgets.txt'\n",
    "def buy():\n",
    "    customer_name = input(\"Enter customer name: \")\n",
    "    customer_phone = input(\"Enter customer phone: \")\n",
    "    customer_email = input(\"Enter customer email address: \")\n",
    "\n",
    "    productname = input(\"Enter product name: \")\n",
    "    qn = input(\"Enter the quantity: \")\n",
    "\n",
    "    found = False\n",
    "    with open(filename, 'r') as file:\n",
    "        data = file.read().split(\"\\n\")\n",
    "\n",
    "    print(\"BILLS\")\n",
    "    print(\"-\" * 60)\n",
    "    for i, line in enumerate(data):\n",
    "        if line.strip():\n",
    "            parts = line.split(\",\")\n",
    "            if len(parts) == 4 and parts[1].strip() == productname:\n",
    "                found = True\n",
    "                product_id = parts[0].strip()\n",
    "                product_name = parts[1].strip()\n",
    "                product_price = int(parts[2].strip())\n",
    "                product_quantity = int(parts[3].strip())\n",
    "\n",
    "                requested_qty = int(qn)\n",
    "\n",
    "                if product_quantity >= requested_qty:\n",
    "                    print(\"Name \" , customer_name)\n",
    "                    print(\"PHONE \" , customer_phone)\n",
    "                    print(\"EMAIL \" , customer_email)\n",
    "                    print(f\"{'Product Name':<15}\", product_name)\n",
    "                    print(f\"{'Product Price':<15}\", product_price)\n",
    "                    print(f\"{'Product Quantity':<15}\", requested_qty)\n",
    "                    print(\"-\" * 60)\n",
    "                    total = requested_qty * product_price\n",
    "                    print(f\"{'BILLING':<15}\", total)\n",
    "\n",
    "                    # Update stock quantity\n",
    "                    new_qty = product_quantity - requested_qty\n",
    "                    parts[3] = str(new_qty)\n",
    "                    data[i] = \",\".join(parts)\n",
    "\n",
    "                    # Write updated stock back to file\n",
    "                    with open(filename, 'w') as file:\n",
    "                        file.write(\"\\n\".join(data))\n",
    "\n",
    "                    print(\"Purchase successful. Stock updated.\")\n",
    "\n",
    "                    # Return sales data including customer info\n",
    "                    return (product_id, product_name, requested_qty, total, customer_name, customer_phone, customer_email)\n",
    "\n",
    "                else:\n",
    "                    print(\"Apologies, but we currently do not have enough quantity to fulfill your request.\")\n",
    "                    print(\"We have\", product_quantity, \"in stock.\")\n",
    "                    ans = input(\"Would you like to buy all of our available quantity? yes/no: \")\n",
    "                    if ans.lower() == 'yes':\n",
    "                        total = product_quantity * product_price\n",
    "                        print(\"You are buying all of our available quantity.\")\n",
    "                        print(\"Your total is\", total)\n",
    "\n",
    "                        # Update stock to zero\n",
    "                        parts[3] = '0'\n",
    "                        data[i] = \",\".join(parts)\n",
    "                        with open(filename, 'w') as file:\n",
    "                            file.write(\"\\n\".join(data))\n",
    "\n",
    "                        print(\"Purchase successful. Stock updated.\")\n",
    "\n",
    "                        return (product_id, product_name, product_quantity, total, customer_name, customer_phone, customer_email)\n",
    "                    else:\n",
    "                        print(\"Thank you for shopping!\")\n",
    "                        return None\n",
    "    if not found:\n",
    "        print(\"Sorry, product not found.\")\n",
    "        return None\n",
    "\n",
    "\n",
    "def sales(sale_data):\n",
    "    if sale_data is None:\n",
    "        print(\"No sale to log.\")\n",
    "        return\n",
    "    product_id, product_name, qty, total, customer_name, customer_phone, customer_email = sale_data\n",
    "    timestamp = datetime.datetime.now().strftime(\"%Y-%m-%d %H:%M:%S\")\n",
    "\n",
    "    with open(\"sales.txt\", \"a\") as sales_file:\n",
    "        sales_file.write(f\"{timestamp},{product_id},{product_name},{qty},{total},{customer_name},{customer_phone},{customer_email}\\n\")\n",
    "\n",
    "    print(\"Sale logged successfully.\")\n",
    "\n",
    "\n",
    "# Example usage\n",
    "sale_info = buy()\n",
    "sales(sale_info)"
   ]
  }
 ],
 "metadata": {
  "kernelspec": {
   "display_name": "base",
   "language": "python",
   "name": "python3"
  },
  "language_info": {
   "codemirror_mode": {
    "name": "ipython",
    "version": 3
   },
   "file_extension": ".py",
   "mimetype": "text/x-python",
   "name": "python",
   "nbconvert_exporter": "python",
   "pygments_lexer": "ipython3",
   "version": "3.13.5"
  }
 },
 "nbformat": 4,
 "nbformat_minor": 5
}
