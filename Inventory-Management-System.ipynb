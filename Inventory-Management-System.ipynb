{
 "cells": [
  {
   "cell_type": "markdown",
   "id": "5ee60d2f-b885-4413-85b2-900752a73030",
   "metadata": {},
   "source": [
    "# PROJECT:-INVENTORY MANGEMENT SYSTEM"
   ]
  },
  {
   "cell_type": "raw",
   "id": "d7c59eb8-33ef-409c-a3ce-ddc1255df974",
   "metadata": {
    "vscode": {
     "languageId": "raw"
    }
   },
   "source": [
    "Product Details:-\n",
    "1.Product ID\n",
    "2.Product Name\n",
    "3.Product Price\n",
    "4.Quantity"
   ]
  },
  {
   "cell_type": "markdown",
   "id": "023583cc-aa2b-42de-9615-3024cb742a68",
   "metadata": {},
   "source": [
    "# Making inventory file"
   ]
  },
  {
   "cell_type": "code",
   "execution_count": 1,
   "id": "1c85c945-dcbb-4909-8457-cb319e54c32c",
   "metadata": {},
   "outputs": [
    {
     "name": "stdout",
     "output_type": "stream",
     "text": [
      "File exists.\n"
     ]
    }
   ],
   "source": [
    "import os  # Import the os module to interact with the operating system (e.g., check if files exist)\n",
    "import datetime  # Import datetime module (not used in this snippet but might be for timestamps later)\n",
    "\n",
    "filename = 'Inventory-of-gadgets.txt'  # Define the filename we want to check or create\n",
    "\n",
    "# Check if the file with the specified filename already exists in the current directory\n",
    "if os.path.exists(filename):\n",
    "    print(\"File exists.\")  # If the file exists, print confirmation\n",
    "else:\n",
    "    # If the file does not exist, create it by opening in write mode ('w')\n",
    "    # Note: variable 'file_path' is not defined, should be 'filename'\n",
    "    with open(filename, 'w') as f:\n",
    "        pass  # 'pass' means do nothing inside the file for now; just create it\n",
    "    print(\"File created.\")  # Notify that the file has been created"
   ]
  },
  {
   "cell_type": "markdown",
   "id": "beff7a1a-6213-466e-9871-c145057b9119",
   "metadata": {},
   "source": [
    "# ADD PRODUCT DETAILS"
   ]
  },
  {
   "cell_type": "code",
   "execution_count": 2,
   "id": "c4358c41-19a8-4e39-a739-4c8060bf986a",
   "metadata": {},
   "outputs": [
    {
     "name": "stdout",
     "output_type": "stream",
     "text": [
      "Product Added Successfully with Product ID: 2\n"
     ]
    }
   ],
   "source": [
    "filename = 'Inventory-of-gadgets.txt'\n",
    "\n",
    "# Get product details from user input\n",
    "product_id = input(\"Enter the Product ID: \")\n",
    "product_name = input(\"Enter the Product Name: \")\n",
    "product_price = input(\"Enter the Product Price: \")\n",
    "product_quantity = input(\"Enter the Product Quantity: \")\n",
    "\n",
    "def add_product(product_id, product_name, product_price, product_quantity):\n",
    "    # Open the file in append mode to add new product data at the end\n",
    "    with open(filename, 'a') as file:\n",
    "        # Write product details as a CSV line (comma-separated values)\n",
    "        file.write(f\"{product_id},{product_name},{product_price},{product_quantity}\\n\")\n",
    "\n",
    "# Call the function to add the product info to the file\n",
    "add_product(product_id, product_name, product_price, product_quantity)\n",
    "\n",
    "print(\"Product Added Successfully with Product ID:\", product_id)"
   ]
  },
  {
   "cell_type": "markdown",
   "id": "5c07bda2",
   "metadata": {},
   "source": [
    "# READ THE INVENTORY FILE "
   ]
  },
  {
   "cell_type": "code",
   "execution_count": 3,
   "id": "7b1e8b30",
   "metadata": {},
   "outputs": [
    {
     "name": "stdout",
     "output_type": "stream",
     "text": [
      "Product ID     Product Name        Product Price  Product Quantity\n",
      "-----------------------------------------------------------------\n",
      "1              Mac book pro 13     160000         100            \n",
      "2              A26                 20000          20             \n"
     ]
    }
   ],
   "source": [
    "import os  # Import os module to check if the file exists\n",
    "\n",
    "def read_product():\n",
    "    # Check if the inventory file exists to avoid errors\n",
    "    if not os.path.exists(filename):\n",
    "        print(\"No products found. Inventory file does not exist.\")\n",
    "        return  # Exit the function early if file doesn't exist\n",
    "\n",
    "    # Open the file in read mode\n",
    "    with open(filename, 'r') as file:\n",
    "        # Read the entire file content, strip trailing whitespace, and split by newline into lines\n",
    "        data = file.read().strip().split(\"\\n\")\n",
    "\n",
    "    # Print the header row with column names, using formatting for alignment\n",
    "    print(f\"{'Product ID':<15}{'Product Name':<20}{'Product Price':<15}{'Product Quantity':<15}\")\n",
    "    print(\"-\" * 65)  # Print a separator line\n",
    "\n",
    "    # Iterate over each line in the file (each representing a product)\n",
    "    for line in data:\n",
    "        if line.strip():  # Skip empty lines to avoid errors\n",
    "            parts = line.split(\",\")  # Split the line by comma to get individual fields\n",
    "            if len(parts) == 4:  # Ensure the line has all four fields expected\n",
    "                product_id = parts[0].strip()  # Extract and clean Product ID\n",
    "                product_name = parts[1].strip()  # Extract and clean Product Name\n",
    "                product_price = parts[2].strip()  # Extract and clean Product Price\n",
    "                product_quantity = parts[3].strip()  # Extract and clean Product Quantity\n",
    "\n",
    "                # Print each product's details formatted in columns\n",
    "                print(f\"{product_id:<15}{product_name:<20}{product_price:<15}{product_quantity:<15}\")\n",
    "\n",
    "# Call the function to display all products in the inventory file\n",
    "read_product()"
   ]
  },
  {
   "cell_type": "markdown",
   "id": "2669308e",
   "metadata": {},
   "source": [
    "# SREACH THE PRODUCT"
   ]
  },
  {
   "cell_type": "code",
   "execution_count": 4,
   "id": "663ef265",
   "metadata": {},
   "outputs": [
    {
     "name": "stdout",
     "output_type": "stream",
     "text": [
      "Product ID     Product Name   Product Price  Product Quantity\n",
      "------------------------------------------------------------\n",
      "1              Mac book pro 13     160000         100            \n"
     ]
    }
   ],
   "source": [
    "# Take input from the user for the product ID to search\n",
    "productid = input(\"Enter product id:\")\n",
    "\n",
    "def search_product():\n",
    "    # Open the file in read mode\n",
    "    # Note: 'filename' should be defined with the path to your product data file\n",
    "    with open(filename, 'r') as file:\n",
    "        # Read the entire file content and split it by newline into a list of lines\n",
    "        data = file.read().split(\"\\n\")  # split lines by newline character\n",
    "\n",
    "    # Print the header for the output table with fixed width formatting\n",
    "    print(f\"{'Product ID':<15}{'Product Name':<15}{'Product Price':<15}{'Product Quantity':<15}\")\n",
    "    print(\"-\" * 60)  # separator line for better readability\n",
    "\n",
    "    # Iterate through each line in the file data\n",
    "    for line in data:\n",
    "        if line.strip():  # check if line is not empty (skip blank lines)\n",
    "            # Split the line by comma to separate product details\n",
    "            parts = line.split(\",\")\n",
    "            # Check if line has exactly 4 parts and if the product id matches the input\n",
    "            # Convert both to int for accurate comparison\n",
    "            if len(parts) == 4 and int(parts[0]) == int(productid):\n",
    "                # Extract and clean each product detail by stripping extra spaces\n",
    "                product_id = parts[0].strip()\n",
    "                product_name = parts[1].strip()\n",
    "                product_price = parts[2].strip()\n",
    "                product_quantity = parts[3].strip()\n",
    "\n",
    "                # Print the product details with formatted spacing\n",
    "                print(f\"{product_id:<15}{product_name:<20}{product_price:<15}{product_quantity:<15}\")\n",
    "\n",
    "# Call the function to perform the search\n",
    "search_product()"
   ]
  },
  {
   "cell_type": "markdown",
   "id": "7660349f",
   "metadata": {},
   "source": [
    "# BUY PRODUCT AND GENRATING BILL"
   ]
  },
  {
   "cell_type": "code",
   "execution_count": 5,
   "id": "3372e5dc",
   "metadata": {},
   "outputs": [
    {
     "name": "stdout",
     "output_type": "stream",
     "text": [
      "------------------------------------------------------------\n",
      "Product Name    A26\n",
      "Product Price   20000\n",
      "Product Quantity 5\n",
      "------------------------------------------------------------\n",
      "BILLING         100000\n"
     ]
    }
   ],
   "source": [
    "# Get product name from user input\n",
    "productname = input(\"Enter product name:\")\n",
    "\n",
    "# Get quantity from user input\n",
    "qn = input(\"Enter the quantity:\")\n",
    "\n",
    "# Define the buy function to process the purchase\n",
    "def buy():\n",
    "    found = False  # Flag to track if product is found\n",
    "    \n",
    "    # Open the file containing product data in read mode\n",
    "    with open(filename, 'r') as file:\n",
    "        # Read all lines and split into a list by newline character\n",
    "        data = file.read().split(\"\\n\")\n",
    "\n",
    "    print(\"-\" * 60)  # Print a separator line for better readability\n",
    "    \n",
    "    # Loop through each line of data\n",
    "    for line in data:\n",
    "        if line.strip():  # Check if the line is not empty\n",
    "            parts = line.split(\",\")  # Split the line by commas into parts\n",
    "            \n",
    "            # Check if the line has exactly 4 parts (ID, Name, Price, Quantity)\n",
    "            # and if the product name matches the user input\n",
    "            if len(parts) == 4 and parts[1].strip() == productname:\n",
    "                found = True  # Mark that product was found\n",
    "                \n",
    "                # Extract product details and strip whitespace\n",
    "                product_id = parts[0].strip()\n",
    "                product_name = parts[1].strip()\n",
    "                product_price = parts[2].strip()\n",
    "                product_quantity = int(parts[3].strip())  # Convert quantity to integer\n",
    "                \n",
    "                # Check if available quantity is sufficient\n",
    "                if product_quantity >= int(qn):\n",
    "                    # Display product info and billing amount\n",
    "                    print(f\"{'Product Name':<15}\", product_name)\n",
    "                    print(f\"{'Product Price':<15}\", product_price)\n",
    "                    print(f\"{'Product Quantity':<15}\", qn)\n",
    "                    print(\"-\" * 60)\n",
    "                    print(f\"{'BILLING':<15}\", int(qn) * int(product_price))\n",
    "                else:\n",
    "                    # Inform user that stock is insufficient\n",
    "                    print(\"Apologies, but we currently do not have enough quantity to fulfill your request.\")\n",
    "                    print(\"We have\", product_quantity, \"in stock.\")\n",
    "                    \n",
    "                    # Ask user if they want to buy all available stock\n",
    "                    ans = input(\"Would you like to buy all of our available quantity? yes/no: \")\n",
    "                    if ans.lower() == 'yes':\n",
    "                        # User accepts to buy all available quantity\n",
    "                        print(\"You are buying all of our available quantity.\")\n",
    "                        print(\"Your total is\", product_quantity * int(product_price))\n",
    "                    else:\n",
    "                        # User declines, thank them and exit\n",
    "                        print(\"Thank you for shopping!\")\n",
    "                break  # Exit the loop since product was found and processed\n",
    "\n",
    "    # If product was not found in the file, notify the user\n",
    "    if not found:\n",
    "        print(\"Sorry, product not found.\")\n",
    "    \n",
    "# Call the buy function to start the purchase process\n",
    "buy()"
   ]
  },
  {
   "cell_type": "markdown",
   "id": "668e159e",
   "metadata": {},
   "source": [
    "# UPDATE INVENTORY"
   ]
  },
  {
   "cell_type": "code",
   "execution_count": 7,
   "id": "ccd2afed",
   "metadata": {},
   "outputs": [
    {
     "name": "stdout",
     "output_type": "stream",
     "text": [
      "Inventory After Selling the Respected Product :- A26\n",
      "Product Quantity Updated Successfully\n"
     ]
    }
   ],
   "source": [
    "print(\"Inventory After Selling the Respected Product :-\", productname)\n",
    "with open(filename, 'r') as file:\n",
    "        # Read all lines from the file, splitting on newline to get a list of product records\n",
    "        data = file.read().split(\"\\n\")  # E\n",
    "def Update(data, productname, qn, filename):\n",
    "    # Open the file in read mode to load current inventory data\n",
    "    with open(filename, 'r') as file:\n",
    "        # Read all lines from the file, splitting on newline to get a list of product records\n",
    "        data = file.read().split(\"\\n\")  # Each line corresponds to one product record\n",
    "\n",
    "    updated_data = []  # This list will store the updated product records\n",
    "\n",
    "    # Process each line (product record) from the file\n",
    "    for line in data:\n",
    "        if line.strip():  # Skip any empty lines\n",
    "            parts = line.strip().split(\",\")  # Split the line into components by commas (e.g., ID, name, price, quantity)\n",
    "            \n",
    "            # Check if the line has exactly 4 parts (valid record) and if the product matches the one to update\n",
    "            if len(parts) == 4 and parts[1] == productname:\n",
    "                # Calculate the new quantity by subtracting the sold quantity (qn)\n",
    "                new_quantity = int(parts[3]) - int(qn)\n",
    "                \n",
    "                # If new quantity is less than zero, print a warning and set quantity to zero\n",
    "                if new_quantity < 0:\n",
    "                    print(f\"Warning: Quantity for {productname} cannot be negative. Setting to 0.\")\n",
    "                    new_quantity = 0\n",
    "                \n",
    "                # Update the quantity part with the new quantity\n",
    "                parts[3] = str(new_quantity)\n",
    "                \n",
    "                print(\"Product Quantity Updated Successfully\")\n",
    "            \n",
    "            # Join the parts back into a comma-separated string and add to the updated data list\n",
    "            updated_data.append(\",\".join(parts))\n",
    "\n",
    "    # After updating all relevant lines, open the file in write mode to overwrite with updated data\n",
    "    with open(filename, 'w') as file:\n",
    "        # Write each updated product record back to the file, adding a newline after each record\n",
    "        for line in updated_data:\n",
    "            file.write(line + \"\\n\")\n",
    "\n",
    "# Call the function to update the inventory\n",
    "Update(data, productname, qn, filename)"
   ]
  },
  {
   "cell_type": "markdown",
   "id": "e9bdeeb3",
   "metadata": {},
   "source": [
    "# REFILL STOCK"
   ]
  },
  {
   "cell_type": "code",
   "execution_count": 8,
   "id": "017fe09a",
   "metadata": {},
   "outputs": [
    {
     "name": "stdout",
     "output_type": "stream",
     "text": [
      "Refilled A26 stock from 15 to 20.\n"
     ]
    }
   ],
   "source": [
    "def refill_stock():\n",
    "    # Ask the user for the product name they want to refill\n",
    "    productname = input(\"Enter product name to refill: \")\n",
    "    \n",
    "    # Ask the user for the quantity they want to add to the stock\n",
    "    refill_qty = int(input(\"Enter quantity to add: \"))\n",
    "\n",
    "    updated_lines = []  # This list will store the updated lines to write back to the file\n",
    "    found = False       # Flag to check if the product is found in the file\n",
    "\n",
    "    # Open the file in read mode to read all existing lines\n",
    "    with open(filename, 'r') as file:\n",
    "        lines = file.readlines()\n",
    "\n",
    "    # Loop through each line to find the product and update the quantity\n",
    "    for line in lines:\n",
    "        if line.strip():  # Check if the line is not empty\n",
    "            parts = line.strip().split(\",\")  # Split the line by comma to get individual parts\n",
    "            # Check if the line has exactly 4 parts and the product name matches the input\n",
    "            if len(parts) == 4 and parts[1].strip() == productname:\n",
    "                found = True  # Mark that we found the product\n",
    "                current_qty = int(parts[3].strip())  # Get current quantity of the product\n",
    "                new_qty = current_qty + refill_qty  # Calculate new quantity after refill\n",
    "                parts[3] = str(new_qty)  # Update the quantity part with the new quantity\n",
    "                updated_line = \",\".join(parts) + \"\\n\"  # Recreate the line with updated quantity\n",
    "                updated_lines.append(updated_line)  # Add the updated line to the list\n",
    "                print(f\"Refilled {productname} stock from {current_qty} to {new_qty}.\")\n",
    "            else:\n",
    "                # If product name does not match, keep the line unchanged\n",
    "                updated_lines.append(line)\n",
    "        else:\n",
    "            # If the line is empty, keep it unchanged\n",
    "            updated_lines.append(line) \n",
    "\n",
    "    if not found:\n",
    "        # If after going through all lines product wasn't found, inform the user\n",
    "        print(\"Product not found. Cannot refill stock.\")\n",
    "        return  # Exit the function without writing to the file\n",
    "\n",
    "    # Open the file in write mode to overwrite with updated data\n",
    "    with open(filename, 'w') as file:\n",
    "        file.writelines(updated_lines)  # Write all updated lines back to the file\n",
    "\n",
    "# Call the function to execute\n",
    "refill_stock()"
   ]
  },
  {
   "cell_type": "markdown",
   "id": "2c926cb0",
   "metadata": {},
   "source": [
    "# WHOLE SALES"
   ]
  },
  {
   "cell_type": "raw",
   "id": "b525e56b",
   "metadata": {},
   "source": [
    "Presonal Details:-\n",
    "1.Name\n",
    "2.Phone\n",
    "3.Email"
   ]
  },
  {
   "cell_type": "code",
   "execution_count": 9,
   "id": "471eeabf",
   "metadata": {},
   "outputs": [
    {
     "name": "stdout",
     "output_type": "stream",
     "text": [
      "BILLS\n",
      "------------------------------------------------------------\n",
      "Name  KAVITA\n",
      "PHONE  101\n",
      "EMAIL  abc@gmail.com\n",
      "Product Name    Mac book pro 13\n",
      "Product Price   160000\n",
      "Product Quantity 20\n",
      "------------------------------------------------------------\n",
      "BILLING         3200000\n",
      "Purchase successful. Stock updated.\n",
      "Sale logged successfully.\n"
     ]
    }
   ],
   "source": [
    "import datetime\n",
    "\n",
    "# Path to the inventory file that contains product data\n",
    "filename = 'Inventory-of-gadgets.txt'\n",
    "\n",
    "def buy():\n",
    "    # Get customer details\n",
    "    customer_name = input(\"Enter customer name: \")\n",
    "    customer_phone = input(\"Enter customer phone: \")\n",
    "    customer_email = input(\"Enter customer email address: \")\n",
    "\n",
    "    # Get product and quantity the customer wants to buy\n",
    "    productname = input(\"Enter product name: \")\n",
    "    qn = input(\"Enter the quantity: \")\n",
    "\n",
    "    found = False  # Flag to check if product is found in inventory\n",
    "    \n",
    "    # Read the inventory file line by line into a list\n",
    "    with open(filename, 'r') as file:\n",
    "        data = file.read().split(\"\\n\")\n",
    "\n",
    "    print(\"BILLS\")\n",
    "    print(\"-\" * 60)\n",
    "\n",
    "    # Iterate through each line (product record) in the inventory\n",
    "    for i, line in enumerate(data):\n",
    "        if line.strip():  # Skip empty lines\n",
    "            parts = line.split(\",\")  # Each line expected format: product_id, product_name, price, quantity\n",
    "            if len(parts) == 4 and parts[1].strip() == productname:  # Check if product name matches\n",
    "                found = True\n",
    "                product_id = parts[0].strip()\n",
    "                product_name = parts[1].strip()\n",
    "                product_price = int(parts[2].strip())\n",
    "                product_quantity = int(parts[3].strip())\n",
    "\n",
    "                requested_qty = int(qn)\n",
    "\n",
    "                # Check if requested quantity is available in stock\n",
    "                if product_quantity >= requested_qty:\n",
    "                    # Print billing info\n",
    "                    print(\"Name \" , customer_name)\n",
    "                    print(\"PHONE \" , customer_phone)\n",
    "                    print(\"EMAIL \" , customer_email)\n",
    "                    print(f\"{'Product Name':<15}\", product_name)\n",
    "                    print(f\"{'Product Price':<15}\", product_price)\n",
    "                    print(f\"{'Product Quantity':<15}\", requested_qty)\n",
    "                    print(\"-\" * 60)\n",
    "\n",
    "                    total = requested_qty * product_price  # Calculate total price\n",
    "                    print(f\"{'BILLING':<15}\", total)\n",
    "\n",
    "                    # Update stock quantity after purchase\n",
    "                    new_qty = product_quantity - requested_qty\n",
    "                    parts[3] = str(new_qty)\n",
    "                    data[i] = \",\".join(parts)  # Update the line in data list\n",
    "\n",
    "                    # Write updated stock back to the inventory file\n",
    "                    with open(filename, 'w') as file:\n",
    "                        file.write(\"\\n\".join(data))\n",
    "\n",
    "                    print(\"Purchase successful. Stock updated.\")\n",
    "\n",
    "                    # Return sale data for logging\n",
    "                    return (product_id, product_name, requested_qty, total, customer_name, customer_phone, customer_email)\n",
    "\n",
    "                else:\n",
    "                    # If not enough quantity, offer to sell whatever is left\n",
    "                    print(\"Apologies, but we currently do not have enough quantity to fulfill your request.\")\n",
    "                    print(\"We have\", product_quantity, \"in stock.\")\n",
    "                    ans = input(\"Would you like to buy all of our available quantity? yes/no: \")\n",
    "                    if ans.lower() == 'yes':\n",
    "                        total = product_quantity * product_price\n",
    "                        print(\"You are buying all of our available quantity.\")\n",
    "                        print(\"Your total is\", total)\n",
    "\n",
    "                        # Update stock to zero as all remaining quantity is sold\n",
    "                        parts[3] = '0'\n",
    "                        data[i] = \",\".join(parts)\n",
    "                        with open(filename, 'w') as file:\n",
    "                            file.write(\"\\n\".join(data))\n",
    "\n",
    "                        print(\"Purchase successful. Stock updated.\")\n",
    "\n",
    "                        # Return sale data for logging with the available quantity\n",
    "                        return (product_id, product_name, product_quantity, total, customer_name, customer_phone, customer_email)\n",
    "                    else:\n",
    "                        # If customer does not want to buy available quantity\n",
    "                        print(\"Thank you for shopping!\")\n",
    "                        return None\n",
    "    # If product was not found in inventory\n",
    "    if not found:\n",
    "        print(\"Sorry, product not found.\")\n",
    "        return None\n",
    "\n",
    "\n",
    "def sales(sale_data):\n",
    "    # If no sale happened, nothing to log\n",
    "    if sale_data is None:\n",
    "        print(\"No sale to log.\")\n",
    "        return\n",
    "    \n",
    "    # Unpack sale data returned from buy function\n",
    "    product_id, product_name, qty, total, customer_name, customer_phone, customer_email = sale_data\n",
    "    \n",
    "    # Get current timestamp for the sale record\n",
    "    timestamp = datetime.datetime.now().strftime(\"%Y-%m-%d %H:%M:%S\")\n",
    "\n",
    "    # Append the sale information to the sales.txt file\n",
    "    with open(\"sales.txt\", \"a\") as sales_file:\n",
    "        sales_file.write(f\"{timestamp},{product_id},{product_name},{qty},{total},{customer_name},{customer_phone},{customer_email}\\n\")\n",
    "\n",
    "    print(\"Sale logged successfully.\")\n",
    "\n",
    "\n",
    "# Example usage\n",
    "sale_info = buy()  # Call the buy function to process purchase\n",
    "sales(sale_info)   # Log the sale details"
   ]
  },
  {
   "cell_type": "code",
   "execution_count": null,
   "id": "bbe363de",
   "metadata": {},
   "outputs": [],
   "source": []
  }
 ],
 "metadata": {
  "kernelspec": {
   "display_name": "base",
   "language": "python",
   "name": "python3"
  },
  "language_info": {
   "codemirror_mode": {
    "name": "ipython",
    "version": 3
   },
   "file_extension": ".py",
   "mimetype": "text/x-python",
   "name": "python",
   "nbconvert_exporter": "python",
   "pygments_lexer": "ipython3",
   "version": "3.13.5"
  }
 },
 "nbformat": 4,
 "nbformat_minor": 5
}
