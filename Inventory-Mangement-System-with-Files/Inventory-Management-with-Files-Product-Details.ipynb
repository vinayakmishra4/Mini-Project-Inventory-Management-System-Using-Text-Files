{
 "cells": [
  {
   "cell_type": "markdown",
   "id": "c96b0604",
   "metadata": {},
   "source": [
    "# Inventory Management System(File Based)-Product Details"
   ]
  },
  {
   "cell_type": "markdown",
   "id": "9012f059",
   "metadata": {},
   "source": [
    "## CREATE INVENTORY FILE "
   ]
  },
  {
   "cell_type": "code",
   "execution_count": 9,
   "id": "c56ccd6c",
   "metadata": {},
   "outputs": [
    {
     "name": "stdout",
     "output_type": "stream",
     "text": [
      "inventory.txt already exists.\n"
     ]
    }
   ],
   "source": [
    "import os\n",
    "\n",
    "filename = \"inventory.txt\"\n",
    "\n",
    "# Check if the file exists\n",
    "if not os.path.isfile(filename):\n",
    "    # Create the file\n",
    "    with open(filename, 'w') as f:\n",
    "        f.write(\"\")  # Create an empty file\n",
    "    print(f\"{filename} created.\")\n",
    "else:\n",
    "    print(f\"{filename} already exists.\")"
   ]
  },
  {
   "cell_type": "markdown",
   "id": "d728741a",
   "metadata": {},
   "source": [
    "# ADD DETAILS"
   ]
  },
  {
   "cell_type": "code",
   "execution_count": 10,
   "id": "853c7239",
   "metadata": {},
   "outputs": [
    {
     "name": "stdout",
     "output_type": "stream",
     "text": [
      "Product details written to inventory.txt\n"
     ]
    }
   ],
   "source": [
    "def addproduct():\n",
    "    # Take product details from user\n",
    "    product_id = input(\"Enter Product ID: \")\n",
    "    product_name = input(\"Enter Product Name: \")\n",
    "    product_price = input(\"Enter Product Price: \")\n",
    "    product_quantity = input(\"Enter Product Quantity: \")\n",
    "\n",
    "    # Write product details to the file with a newline\n",
    "    with open(\"inventory.txt\", \"a+\") as file:\n",
    "        file.write(f\"{product_id},{product_name},{product_price},{product_quantity}\\n\")\n",
    "\n",
    "    print(\"Product details written to inventory.txt\")\n",
    "\n",
    "\n",
    "# Call the function\n",
    "addproduct()"
   ]
  },
  {
   "cell_type": "markdown",
   "id": "2b93cc05-acad-4f08-8d0c-6a5a1d085b5d",
   "metadata": {},
   "source": [
    "# READ THE INVENTORY FILE"
   ]
  },
  {
   "cell_type": "code",
   "execution_count": 11,
   "id": "56f8f488-ed1c-4af1-b8b4-8a77b7c38532",
   "metadata": {},
   "outputs": [
    {
     "name": "stdout",
     "output_type": "stream",
     "text": [
      "Product ID     Product Name        Price     Quantity  \n",
      "-------------------------------------------------------\n",
      "101            Apple               1.50      100       \n",
      "102            Banana              0.75      150       \n",
      "103            Orange              1.00      80        \n",
      "104            Cherry              3         30        \n",
      "105            Grappes             2.0       80        \n",
      "106            Mangoes             4.5       40        \n",
      "107            pineapple           6.0       100       \n",
      "108            black grappes       7.0       100       \n",
      "101            Apple               24        100       \n"
     ]
    }
   ],
   "source": [
    "def readproduct():\n",
    "    # Open the file for reading\n",
    "    with open(\"inventory.txt\", \"r\") as file:\n",
    "        # Column Headers\n",
    "        print(f\"{'Product ID':<15}{'Product Name':<20}{'Price':<10}{'Quantity':<10}\")\n",
    "        print(\"-\" * 55)\n",
    "\n",
    "        # Product Data\n",
    "        for line in file:\n",
    "            data = line.strip().split(',')  # assuming comma-separated values\n",
    "            if len(data) >= 4:  # make sure there are at least 4 items\n",
    "                print(f\"{data[0]:<15}{data[1]:<20}{data[2]:<10}{data[3]:<10}\")\n",
    "\n",
    "# Call the function\n",
    "readproduct()"
   ]
  },
  {
   "cell_type": "markdown",
   "id": "7084f57d",
   "metadata": {},
   "source": [
    "# Sreach Product Details"
   ]
  },
  {
   "cell_type": "code",
   "execution_count": 12,
   "id": "1275d9b7",
   "metadata": {},
   "outputs": [
    {
     "name": "stdout",
     "output_type": "stream",
     "text": [
      "Product ID     Product Name        Price     Quantity  \n",
      "-------------------------------------------------------\n",
      "102            Banana              0.75      150       \n"
     ]
    }
   ],
   "source": [
    "def searchelement():\n",
    "    product_id = input(\"Enter the product id: \")\n",
    "    \n",
    "    print(f\"{'Product ID':<15}{'Product Name':<20}{'Price':<10}{'Quantity':<10}\")\n",
    "    print(\"-\" * 55)\n",
    "\n",
    "    with open('inventory.txt', 'r') as fd:\n",
    "        for line in fd:\n",
    "            data = line.strip().split(',')  # assuming CSV format\n",
    "            if len(data) >= 4 and data[0] == product_id:\n",
    "                print(f\"{data[0]:<15}{data[1]:<20}{data[2]:<10}{data[3]:<10}\")\n",
    "                return  # stop after finding the match\n",
    "\n",
    "    print(\"Product not found.\")\n",
    "\n",
    "# Call the function\n",
    "searchelement()"
   ]
  },
  {
   "cell_type": "markdown",
   "id": "138ffb0f",
   "metadata": {},
   "source": [
    "# GENREATING BILL OF PRODUCT"
   ]
  },
  {
   "cell_type": "code",
   "execution_count": null,
   "id": "93a1706e",
   "metadata": {},
   "outputs": [
    {
     "name": "stdout",
     "output_type": "stream",
     "text": [
      "-------------------------------------------------------\n",
      "Product ID: 101\n",
      "Product Name: Apple\n",
      "Product Price: 1.50\n",
      "Qunatity is selected : 10\n",
      "-------------------------------------------------------\n",
      "Amount : 15.0\n",
      "-------------------------------------------------------\n",
      "Product ID: 101\n",
      "Product Name: Apple\n",
      "Product Price: 24\n",
      "Qunatity is selected : 20\n",
      "-------------------------------------------------------\n",
      "Amount : 480.0\n"
     ]
    }
   ],
   "source": [
    "def genrating():\n",
    "    product_id=input(\"Enter the product ID\")\n",
    "\n",
    "    with open('inventory.txt', 'r') as fd:\n",
    "        for line in fd:\n",
    "            data = line.strip().split(',')  # assuming CSV format\n",
    "            if len(data) >= 4 and data[0] == product_id:\n",
    "                print(\"-\" * 55)\n",
    "                print(f\"Product ID: {data[0]}\")\n",
    "                print(f\"Product Name: {data[1]}\")\n",
    "                print(f\"Product Price: {data[2]}\")\n",
    "                Quantity=input(\"Select Qunatity\");\n",
    "                print(\"Qunatity is selected :\",Quantity)\n",
    "                print(\"-\"*55)\n",
    "                print(\"Amount :\",float(Quantity)*float(data[2]))\n",
    "                print(\"-\"*55)\n",
    "\n",
    "genrating()"
   ]
  },
  {
   "cell_type": "code",
   "execution_count": null,
   "id": "41c545b9",
   "metadata": {},
   "outputs": [],
   "source": []
  }
 ],
 "metadata": {
  "kernelspec": {
   "display_name": "base",
   "language": "python",
   "name": "python3"
  },
  "language_info": {
   "codemirror_mode": {
    "name": "ipython",
    "version": 3
   },
   "file_extension": ".py",
   "mimetype": "text/x-python",
   "name": "python",
   "nbconvert_exporter": "python",
   "pygments_lexer": "ipython3",
   "version": "3.13.5"
  }
 },
 "nbformat": 4,
 "nbformat_minor": 5
}
