{
 "cells": [
  {
   "cell_type": "markdown",
   "id": "c96b0604",
   "metadata": {},
   "source": [
    "# Inventory Management System(File Based)-Product Details"
   ]
  },
  {
   "cell_type": "markdown",
   "id": "9012f059",
   "metadata": {},
   "source": [
    "## CREATE INVENTORY FILE "
   ]
  },
  {
   "cell_type": "code",
   "execution_count": 5,
   "id": "82267a4f",
   "metadata": {},
   "outputs": [],
   "source": [
    "import os"
   ]
  },
  {
   "cell_type": "code",
   "execution_count": 6,
   "id": "c56ccd6c",
   "metadata": {},
   "outputs": [
    {
     "name": "stdout",
     "output_type": "stream",
     "text": [
      "inventory.txt already exists.\n"
     ]
    }
   ],
   "source": [
    "import os\n",
    "\n",
    "filename = \"inventory.txt\"\n",
    "\n",
    "# Check if the file exists\n",
    "if not os.path.isfile(filename):\n",
    "    # Create the file\n",
    "    with open(filename, 'w') as f:\n",
    "        f.write(\"\")  # Create an empty file\n",
    "    print(f\"{filename} created.\")\n",
    "else:\n",
    "    print(f\"{filename} already exists.\")"
   ]
  },
  {
   "cell_type": "markdown",
   "id": "d728741a",
   "metadata": {},
   "source": [
    "# ADD DETAILS"
   ]
  },
  {
   "cell_type": "code",
   "execution_count": null,
   "id": "853c7239",
   "metadata": {},
   "outputs": [
    {
     "name": "stdout",
     "output_type": "stream",
     "text": [
      "Product details written in column format to inventory.txt\n"
     ]
    }
   ],
   "source": [
    "def addproduct():\n",
    "    # Take product details from user\n",
    "    product_id = input(\"Enter Product ID: \")\n",
    "    product_name = input(\"Enter Product Name: \")\n",
    "    product_price = input(\"Enter Product Price: \")\n",
    "    product_quantity = input(\"Enter Product Quantity: \")\n",
    "\n",
    "    # Write column headers and product details\n",
    "    with open(\"inventory.txt\", \"w\") as file:\n",
    "        # Column Headers\n",
    "        file.write(f\"{'Product ID':<15}{'Product Name':<20}{'Price':<10}{'Quantity':<10}\\n\")\n",
    "        file.write(\"-\" * 55 + \"\\n\")  # Divider line\n",
    "        # Product Data\n",
    "        file.write(f\"{product_id:<15}{product_name:<20}{product_price:<10}{product_quantity:<10}\\n\")\n",
    "\n",
    "    print(\"Product details written in to inventory.txt\")\n",
    "\n",
    "\n",
    "# Call the function\n",
    "addproduct()\n"
   ]
  }
 ],
 "metadata": {
  "kernelspec": {
   "display_name": "Python 3",
   "language": "python",
   "name": "python3"
  },
  "language_info": {
   "codemirror_mode": {
    "name": "ipython",
    "version": 3
   },
   "file_extension": ".py",
   "mimetype": "text/x-python",
   "name": "python",
   "nbconvert_exporter": "python",
   "pygments_lexer": "ipython3",
   "version": "3.13.5"
  }
 },
 "nbformat": 4,
 "nbformat_minor": 5
}
