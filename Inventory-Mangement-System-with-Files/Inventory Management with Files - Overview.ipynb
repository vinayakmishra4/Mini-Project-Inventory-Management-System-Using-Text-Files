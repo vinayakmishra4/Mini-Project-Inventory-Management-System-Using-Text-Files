{
 "cells": [
  {
   "cell_type": "markdown",
   "id": "6cc41810",
   "metadata": {},
   "source": [
    " # Inventory Management with Files - Overview"
   ]
  },
  {
   "cell_type": "markdown",
   "id": "946f5b7b",
   "metadata": {},
   "source": [
    "Key Components of the Inventory System:-\n",
    "1. Product ID\n",
    "2. Product Name\n",
    "3. Product Price\n",
    "4. Product Quantity\n"
   ]
  },
  {
   "cell_type": "code",
   "execution_count": null,
   "id": "07978849",
   "metadata": {},
   "outputs": [],
   "source": [
    "import os\n",
    "\n",
    "filename = \"inventory.txt\"\n",
    "\n",
    "# Check if the file exists\n",
    "if not os.path.isfile(filename):\n",
    "    # Create the file\n",
    "    with open(filename, 'w') as f:\n",
    "        f.write(\"\")  # Create an empty file\n",
    "    print(f\"{filename} created.\")\n",
    "else:\n",
    "    print(f\"{filename} already exists.\")"
   ]
  },
  {
   "cell_type": "code",
   "execution_count": null,
   "id": "c2a1144a",
   "metadata": {},
   "outputs": [
    {
     "name": "stdout",
     "output_type": "stream",
     "text": [
      "1, Chocolate, 5, 100\n",
      "2, Milky Bar, 10, 50\n",
      "3, Cake, 300, 5\n",
      "4, Candy, 1, 200\n",
      "5, Ice Cream, 20, 100\n",
      "\n"
     ]
    }
   ],
   "source": [
    "def addproduct():\n",
    "    # Take product details from user\n",
    "    product_id = input(\"Enter Product ID: \")\n",
    "    product_name = input(\"Enter Product Name: \")\n",
    "    product_price = input(\"Enter Product Price: \")\n",
    "    product_quantity = input(\"Enter Product Quantity: \")\n",
    "\n",
    "    # Write product details to the file with a newline\n",
    "    with open(\"inventory.txt\", \"a+\") as file:\n",
    "        file.write(f\"{product_id},{product_name},{product_price},{product_quantity}\\n\")\n",
    "\n",
    "    print(\"Product details written to inventory.txt\")\n",
    "\n",
    "\n",
    "# Call the function\n",
    "addproduct()"
   ]
  },
  {
   "cell_type": "code",
   "execution_count": null,
   "id": "8e3aec1e",
   "metadata": {},
   "outputs": [],
   "source": [
    "def readproduct():\n",
    "    # Open the file for reading\n",
    "    with open(\"inventory.txt\", \"r\") as file:\n",
    "        # Column Headers\n",
    "        print(f\"{'Product ID':<15}{'Product Name':<20}{'Price':<10}{'Quantity':<10}\")\n",
    "        print(\"-\" * 55)\n",
    "\n",
    "        # Product Data\n",
    "        for line in file:\n",
    "            data = line.strip().split(',')  # assuming comma-separated values\n",
    "            if len(data) >= 4:  # make sure there are at least 4 items\n",
    "                print(f\"{data[0]:<15}{data[1]:<20}{data[2]:<10}{data[3]:<10}\")\n",
    "\n",
    "# Call the function\n",
    "readproduct()"
   ]
  }
 ],
 "metadata": {
  "kernelspec": {
   "display_name": "Python 3",
   "language": "python",
   "name": "python3"
  },
  "language_info": {
   "codemirror_mode": {
    "name": "ipython",
    "version": 3
   },
   "file_extension": ".py",
   "mimetype": "text/x-python",
   "name": "python",
   "nbconvert_exporter": "python",
   "pygments_lexer": "ipython3",
   "version": "3.13.5"
  }
 },
 "nbformat": 4,
 "nbformat_minor": 5
}
