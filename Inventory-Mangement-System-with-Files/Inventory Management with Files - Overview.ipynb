{
 "cells": [
  {
   "cell_type": "markdown",
   "id": "6cc41810",
   "metadata": {},
   "source": [
    " # Inventory Management with Files - Overview"
   ]
  },
  {
   "cell_type": "markdown",
   "id": "946f5b7b",
   "metadata": {},
   "source": [
    "Key Components of the Inventory System:-\n",
    "1. Product ID\n",
    "2. Product Name\n",
    "3. Product Price\n",
    "4. Product Quantity\n"
   ]
  },
  {
   "cell_type": "code",
   "execution_count": 1,
   "id": "07978849",
   "metadata": {},
   "outputs": [
    {
     "name": "stdout",
     "output_type": "stream",
     "text": [
      "inventory.txt already exists.\n"
     ]
    }
   ],
   "source": [
    "import os\n",
    "\n",
    "filename = \"inventory.txt\"\n",
    "\n",
    "# Check if the file exists\n",
    "if not os.path.isfile(filename):\n",
    "    # Create the file\n",
    "    with open(filename, 'w') as f:\n",
    "        f.write(\"\")  # Create an empty file\n",
    "    print(f\"{filename} created.\")\n",
    "else:\n",
    "    print(f\"{filename} already exists.\")"
   ]
  },
  {
   "cell_type": "code",
   "execution_count": 2,
   "id": "c2a1144a",
   "metadata": {},
   "outputs": [
    {
     "name": "stdout",
     "output_type": "stream",
     "text": [
      "Product details written to inventory.txt\n"
     ]
    }
   ],
   "source": [
    "def addproduct():\n",
    "    # Take product details from user\n",
    "    product_id = input(\"Enter Product ID: \")\n",
    "    product_name = input(\"Enter Product Name: \")\n",
    "    product_price = input(\"Enter Product Price: \")\n",
    "    product_quantity = input(\"Enter Product Quantity: \")\n",
    "\n",
    "    # Write product details to the file with a newline\n",
    "    with open(\"inventory.txt\", \"a+\") as file:\n",
    "        file.write(f\"{product_id},{product_name},{product_price},{product_quantity}\\n\")\n",
    "\n",
    "    print(\"Product details written to inventory.txt\")\n",
    "\n",
    "\n",
    "# Call the function\n",
    "addproduct()"
   ]
  },
  {
   "cell_type": "code",
   "execution_count": 3,
   "id": "8e3aec1e",
   "metadata": {},
   "outputs": [
    {
     "name": "stdout",
     "output_type": "stream",
     "text": [
      "Product ID     Product Name        Price     Quantity  \n",
      "-------------------------------------------------------\n",
      "101            Apple               1.50      100       \n",
      "102            Banana              0.75      150       \n",
      "103            Orange              1.00      80        \n",
      "104            Cherry              3         30        \n",
      "105            Grappes             2.0       80        \n",
      "106            Mangoes             4.5       40        \n",
      "107            pineapple           6.0       100       \n",
      "108            black grappes       7.0       100       \n"
     ]
    }
   ],
   "source": [
    "def readproduct():\n",
    "    # Open the file for reading\n",
    "    with open(\"inventory.txt\", \"r\") as file:\n",
    "        # Column Headers\n",
    "        print(f\"{'Product ID':<15}{'Product Name':<20}{'Price':<10}{'Quantity':<10}\")\n",
    "        print(\"-\" * 55)\n",
    "\n",
    "        # Product Data\n",
    "        for line in file:\n",
    "            data = line.strip().split(',')  # assuming comma-separated values\n",
    "            if len(data) >= 4:  # make sure there are at least 4 items\n",
    "                print(f\"{data[0]:<15}{data[1]:<20}{data[2]:<10}{data[3]:<10}\")\n",
    "\n",
    "# Call the function\n",
    "readproduct()"
   ]
  },
  {
   "cell_type": "code",
   "execution_count": null,
   "id": "e6799b24",
   "metadata": {},
   "outputs": [],
   "source": []
  }
 ],
 "metadata": {
  "kernelspec": {
   "display_name": "base",
   "language": "python",
   "name": "python3"
  },
  "language_info": {
   "codemirror_mode": {
    "name": "ipython",
    "version": 3
   },
   "file_extension": ".py",
   "mimetype": "text/x-python",
   "name": "python",
   "nbconvert_exporter": "python",
   "pygments_lexer": "ipython3",
   "version": "3.13.5"
  }
 },
 "nbformat": 4,
 "nbformat_minor": 5
}
