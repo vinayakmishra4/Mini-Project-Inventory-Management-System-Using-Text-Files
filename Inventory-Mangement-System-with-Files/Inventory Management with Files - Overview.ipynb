{
 "cells": [
  {
   "cell_type": "markdown",
   "id": "6cc41810",
   "metadata": {},
   "source": [
    " # Inventory Management with Files - Overview"
   ]
  },
  {
   "cell_type": "markdown",
   "id": "946f5b7b",
   "metadata": {},
   "source": [
    "Key Components of the Inventory System:-\n",
    "1. Product ID\n",
    "2. Product Name\n",
    "3. Product Price\n",
    "4. Product Quantity\n"
   ]
  },
  {
   "cell_type": "code",
   "execution_count": 5,
   "id": "07978849",
   "metadata": {},
   "outputs": [],
   "source": [
    "# columm (Product id,Product name,Product price,Product quantity)\n",
    "with open(\"Inventory.txt\", \"w\") as file:\n",
    "    file.write(\"1, Chocolate, 5, 100\\n\")\n",
    "    file.write(\"2, Milky Bar, 10, 50\\n\")\n",
    "    file.write(\"3, Cake, 300, 5\\n\")\n",
    "    file.write(\"4, Candy, 1, 200\\n\")\n",
    "    file.write(\"5, Ice Cream, 20, 100\\n\")"
   ]
  },
  {
   "cell_type": "code",
   "execution_count": 6,
   "id": "c2a1144a",
   "metadata": {},
   "outputs": [
    {
     "name": "stdout",
     "output_type": "stream",
     "text": [
      "1, Chocolate, 5, 100\n",
      "2, Milky Bar, 10, 50\n",
      "3, Cake, 300, 5\n",
      "4, Candy, 1, 200\n",
      "5, Ice Cream, 20, 100\n",
      "\n"
     ]
    }
   ],
   "source": [
    "with open(\"Inventory.txt\", \"r\") as file:\n",
    "    inventory = file.read()\n",
    "    print(inventory)"
   ]
  },
  {
   "cell_type": "code",
   "execution_count": null,
   "id": "8e3aec1e",
   "metadata": {},
   "outputs": [],
   "source": []
  }
 ],
 "metadata": {
  "kernelspec": {
   "display_name": "Python 3",
   "language": "python",
   "name": "python3"
  },
  "language_info": {
   "codemirror_mode": {
    "name": "ipython",
    "version": 3
   },
   "file_extension": ".py",
   "mimetype": "text/x-python",
   "name": "python",
   "nbconvert_exporter": "python",
   "pygments_lexer": "ipython3",
   "version": "3.13.5"
  }
 },
 "nbformat": 4,
 "nbformat_minor": 5
}
